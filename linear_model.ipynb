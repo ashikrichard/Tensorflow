import tensorflow as tf

w=tf.Variable([0.1],tf.float32)
b=tf.Variable([-0.1],tf.float32)

x=tf.placeholder(tf.float32)
y=tf.placeholder(tf.float32)

linear_model=w*x+b

init=tf.global_variables_initializer()

sess=tf.Session()
sess.run(init)

error=y-linear_model
squared_errors=tf.square(error)
loss=tf.reduce_sum(squared_errors)

optimizer=tf.train.GradientDescentOptimizer(0.01)
train=optimizer.minimize(loss)

for i in range(5000):
    sess.run(train,{x:[1,2,3,4],y:[2,4,6,8]})
    print(sess.run([w,b]))
